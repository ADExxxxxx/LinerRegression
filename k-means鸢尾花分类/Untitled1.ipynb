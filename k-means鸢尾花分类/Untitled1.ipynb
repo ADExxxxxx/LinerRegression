{
 "cells": [
  {
   "cell_type": "code",
   "execution_count": 1,
   "metadata": {},
   "outputs": [
    {
     "name": "stdout",
     "output_type": "stream",
     "text": [
      "(784,)\n",
      "[5 0 4 ... 5 6 8]\n"
     ]
    },
    {
     "data": {
      "text/plain": [
       "<Figure size 640x480 with 1 Axes>"
      ]
     },
     "metadata": {},
     "output_type": "display_data"
    }
   ],
   "source": [
    "import struct\n",
    "import numpy as np\n",
    "import matplotlib.pyplot as plt\n",
    "\n",
    "from datetime import datetime\n",
    "from sklearn.metrics import accuracy_score, \\\n",
    "    precision_score, recall_score, f1_score, cohen_kappa_score\n",
    "from sklearn.metrics import classification_report\n",
    "from sklearn.decomposition import PCA\n",
    "from sklearn.svm import SVC\n",
    "from sklearn.preprocessing import StandardScaler\n",
    "\n",
    "\n",
    "\n",
    "def loadImageSet(filename):\n",
    "\n",
    "    binfile = open(filename, 'rb')  # 读取二进制文件\n",
    "    buffers = binfile.read()\n",
    "\n",
    "    head = struct.unpack_from('>IIII', buffers, 0)  # 取前4个整数，返回一个元组\n",
    "\n",
    "    offset = struct.calcsize('>IIII')  # 定位到data开始的位置\n",
    "    imgNum = head[1]\n",
    "    width = head[2]\n",
    "    height = head[3]\n",
    "\n",
    "    bits = imgNum * width * height  # data一共有60000*28*28个像素值\n",
    "    bitsString = '>' + str(bits) + 'B'  # fmt格式：'>47040000B'\n",
    "\n",
    "    imgs = struct.unpack_from(bitsString, buffers, offset)  # 取data数据，返回一个元组\n",
    "\n",
    "    binfile.close()\n",
    "    imgs = np.reshape(imgs, [imgNum, width * height])  # reshape为[60000,784]型数组\n",
    "\n",
    "    return imgs, head\n",
    "\n",
    "\n",
    "def loadLabelSet(filename):\n",
    "    binfile = open(filename, 'rb')  # 读二进制文件\n",
    "    buffers = binfile.read()\n",
    "\n",
    "    head = struct.unpack_from('>II', buffers, 0)  # 取label文件前2个整形数\n",
    "\n",
    "    labelNum = head[1]\n",
    "    offset = struct.calcsize('>II')  # 定位到label数据开始的位置\n",
    "\n",
    "    numString = '>' + str(labelNum) + \"B\"  # fmt格式：'>60000B'\n",
    "    labels = struct.unpack_from(numString, buffers, offset)  # 取label数据\n",
    "\n",
    "    binfile.close()\n",
    "    labels = np.reshape(labels, [labelNum])  # 转型为列表(一维数组)\n",
    "\n",
    "    return labels, head\n",
    "\n",
    "\n",
    "if __name__ == \"__main__\":\n",
    "    file1 = 'Mnist/train-images-idx3-ubyte/train-images.idx3-ubyte'\n",
    "    file2 = 'Mnist/train-labels-idx1-ubyte/train-labels.idx1-ubyte'\n",
    "    file3 = 'Mnist/t10k-labels-idx1-ubyte/t10k-labels.idx1-ubyte'\n",
    "    file4 = 'Mnist/t10k-images-idx3-ubyte/t10k-images.idx3-ubyte'\n",
    "\n",
    "    imgs_train, data_head_train = loadImageSet(file1)\n",
    "    imgs_test, data_head_test = loadImageSet(file4)\n",
    "\n",
    "    labels_train, labels_head_train = loadLabelSet(file2)\n",
    "    labels_test, labels_head_test = loadLabelSet(file3)\n",
    "    print(imgs_train[0].shape)# 28*28\n",
    "    img = imgs_train[3]\n",
    "    img = np.reshape(img, [28, 28], order='C')\n",
    "    print(labels_train)\n",
    "\n",
    "    imgs_train = imgs_train.astype(float)\n",
    "    imgs_test = imgs_test.astype(float)\n",
    "    labels_train = labels_train.astype(float)\n",
    "    labels_test = labels_test.astype(float)\n",
    "\n",
    "    plt.figure()\n",
    "    plt.imshow(img)\n",
    "    plt.show()\n"
   ]
  },
  {
   "cell_type": "code",
   "execution_count": 3,
   "metadata": {},
   "outputs": [
    {
     "name": "stdout",
     "output_type": "stream",
     "text": [
      "这是没有降维结果：\n",
      "训练开始时间:  00:13:03\n",
      "训练结束时间:  00:22:26\n"
     ]
    }
   ],
   "source": []
  },
  {
   "cell_type": "code",
   "execution_count": null,
   "metadata": {},
   "outputs": [],
   "source": []
  }
 ],
 "metadata": {
  "kernelspec": {
   "display_name": "Python 3",
   "language": "python",
   "name": "python3"
  },
  "language_info": {
   "codemirror_mode": {
    "name": "ipython",
    "version": 3
   },
   "file_extension": ".py",
   "mimetype": "text/x-python",
   "name": "python",
   "nbconvert_exporter": "python",
   "pygments_lexer": "ipython3",
   "version": "3.7.0"
  }
 },
 "nbformat": 4,
 "nbformat_minor": 2
}
